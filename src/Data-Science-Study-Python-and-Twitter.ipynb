{
 "cells": [
  {
   "cell_type": "code",
   "execution_count": 5,
   "metadata": {
    "collapsed": false
   },
   "outputs": [],
   "source": [
    "__author__ = 'moormaan'\n",
    "\n",
    "from tweepy import Stream\n",
    "from tweepy import OAuthHandler\n",
    "from tweepy.streaming import StreamListener\n",
    "import json\n",
    "\n",
    "with open(\"private/oauth-config.json\", \"r\") as config:\n",
    "    oauth_config = (json.loads(config.read()))\n",
    "    consumer_key = oauth_config.get('consumer-key')\n",
    "    consumer_secret = oauth_config.get('consumer-secret')\n",
    "    access_token = oauth_config.get('access-token')\n",
    "    access_token_secret = oauth_config.get('access-token-secret')\n",
    "    \n",
    "class Listener(StreamListener):\n",
    "    def on_data(self, data):\n",
    "        jsonData = json.loads(data)\n",
    "        print(jsonData)\n",
    "        \n",
    "    def on_error(self, error):\n",
    "        print('Error: ', error)\n",
    "        \n",
    "if __name__ == '__main__':\n",
    "    oauth = OAuthHandler(consumer_key, consumer_secret)\n",
    "    oauth.set_access_token(access_token, access_token_secret)\n",
    "    \n",
    "twitter_stream = Stream(oauth, StreamListener())\n",
    "twitter_stream.filter(follow = ['moormaan'], track = ['#EU'], languages = ['en'])\n"
   ]
  },
  {
   "cell_type": "code",
   "execution_count": null,
   "metadata": {
    "collapsed": true
   },
   "outputs": [],
   "source": []
  }
 ],
 "metadata": {
  "kernelspec": {
   "display_name": "Python 3",
   "language": "python",
   "name": "python3"
  },
  "language_info": {
   "codemirror_mode": {
    "name": "ipython",
    "version": 3
   },
   "file_extension": ".py",
   "mimetype": "text/x-python",
   "name": "python",
   "nbconvert_exporter": "python",
   "pygments_lexer": "ipython3",
   "version": "3.4.3"
  }
 },
 "nbformat": 4,
 "nbformat_minor": 0
}
